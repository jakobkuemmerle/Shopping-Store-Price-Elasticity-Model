{
 "cells": [
  {
   "cell_type": "code",
   "execution_count": 1,
   "metadata": {},
   "outputs": [
    {
     "data": {
      "text/html": [
       "<div>\n",
       "<style scoped>\n",
       "    .dataframe tbody tr th:only-of-type {\n",
       "        vertical-align: middle;\n",
       "    }\n",
       "\n",
       "    .dataframe tbody tr th {\n",
       "        vertical-align: top;\n",
       "    }\n",
       "\n",
       "    .dataframe thead th {\n",
       "        text-align: right;\n",
       "    }\n",
       "</style>\n",
       "<table border=\"1\" class=\"dataframe\">\n",
       "  <thead>\n",
       "    <tr style=\"text-align: right;\">\n",
       "      <th></th>\n",
       "      <th>3</th>\n",
       "      <th>102</th>\n",
       "      <th>123.36</th>\n",
       "      <th>440.00</th>\n",
       "      <th>0</th>\n",
       "    </tr>\n",
       "  </thead>\n",
       "  <tbody>\n",
       "    <tr>\n",
       "      <th>0</th>\n",
       "      <td>3</td>\n",
       "      <td>103</td>\n",
       "      <td>123.36</td>\n",
       "      <td>440.00</td>\n",
       "      <td>0</td>\n",
       "    </tr>\n",
       "    <tr>\n",
       "      <th>1</th>\n",
       "      <td>3</td>\n",
       "      <td>104</td>\n",
       "      <td>123.36</td>\n",
       "      <td>440.00</td>\n",
       "      <td>0</td>\n",
       "    </tr>\n",
       "    <tr>\n",
       "      <th>2</th>\n",
       "      <td>3</td>\n",
       "      <td>202</td>\n",
       "      <td>123.36</td>\n",
       "      <td>440.00</td>\n",
       "      <td>0</td>\n",
       "    </tr>\n",
       "    <tr>\n",
       "      <th>3</th>\n",
       "      <td>3</td>\n",
       "      <td>203</td>\n",
       "      <td>123.36</td>\n",
       "      <td>440.00</td>\n",
       "      <td>0</td>\n",
       "    </tr>\n",
       "    <tr>\n",
       "      <th>4</th>\n",
       "      <td>3</td>\n",
       "      <td>204</td>\n",
       "      <td>123.36</td>\n",
       "      <td>440.00</td>\n",
       "      <td>0</td>\n",
       "    </tr>\n",
       "    <tr>\n",
       "      <th>...</th>\n",
       "      <td>...</td>\n",
       "      <td>...</td>\n",
       "      <td>...</td>\n",
       "      <td>...</td>\n",
       "      <td>...</td>\n",
       "    </tr>\n",
       "    <tr>\n",
       "      <th>39230140</th>\n",
       "      <td>9999997</td>\n",
       "      <td>2007</td>\n",
       "      <td>15.00</td>\n",
       "      <td>19.50</td>\n",
       "      <td>0</td>\n",
       "    </tr>\n",
       "    <tr>\n",
       "      <th>39230141</th>\n",
       "      <td>9999997</td>\n",
       "      <td>2707</td>\n",
       "      <td>15.00</td>\n",
       "      <td>9.75</td>\n",
       "      <td>0</td>\n",
       "    </tr>\n",
       "    <tr>\n",
       "      <th>39230142</th>\n",
       "      <td>9999997</td>\n",
       "      <td>3307</td>\n",
       "      <td>15.00</td>\n",
       "      <td>19.50</td>\n",
       "      <td>0</td>\n",
       "    </tr>\n",
       "    <tr>\n",
       "      <th>39230143</th>\n",
       "      <td>9999997</td>\n",
       "      <td>7507</td>\n",
       "      <td>15.00</td>\n",
       "      <td>19.50</td>\n",
       "      <td>0</td>\n",
       "    </tr>\n",
       "    <tr>\n",
       "      <th>39230144</th>\n",
       "      <td>9999997</td>\n",
       "      <td>7907</td>\n",
       "      <td>15.00</td>\n",
       "      <td>19.50</td>\n",
       "      <td>0</td>\n",
       "    </tr>\n",
       "  </tbody>\n",
       "</table>\n",
       "<p>39230145 rows × 5 columns</p>\n",
       "</div>"
      ],
      "text/plain": [
       "                3   102  123.36  440.00  0\n",
       "0               3   103  123.36  440.00  0\n",
       "1               3   104  123.36  440.00  0\n",
       "2               3   202  123.36  440.00  0\n",
       "3               3   203  123.36  440.00  0\n",
       "4               3   204  123.36  440.00  0\n",
       "...           ...   ...     ...     ... ..\n",
       "39230140  9999997  2007   15.00   19.50  0\n",
       "39230141  9999997  2707   15.00    9.75  0\n",
       "39230142  9999997  3307   15.00   19.50  0\n",
       "39230143  9999997  7507   15.00   19.50  0\n",
       "39230144  9999997  7907   15.00   19.50  0\n",
       "\n",
       "[39230145 rows x 5 columns]"
      ]
     },
     "execution_count": 1,
     "metadata": {},
     "output_type": "execute_result"
    }
   ],
   "source": [
    "import pandas as pd\n",
    "df=pd.read_csv('~/Downloads/Dillards_POS/skstinfo.csv')\n",
    "df"
   ]
  },
  {
   "attachments": {},
   "cell_type": "markdown",
   "metadata": {},
   "source": [
    "Techically, we should have four columns here: SKU, STORE, COST, RETAIL. \n",
    "SKU is Stock Keeping Unit number of the stock item, which should refers to the first column, i guess.\n",
    "STORE is store numbers, which can be the second column.\n",
    "COST is The cost of the stock item, which can be the third column.\n",
    "RETAIL is The retail price of the stock item, which can be the fourth column.\n",
    "We can check if the last column is all zeros or not. I want to delete that columns as each row has 0."
   ]
  },
  {
   "cell_type": "code",
   "execution_count": 2,
   "metadata": {},
   "outputs": [
    {
     "name": "stdout",
     "output_type": "stream",
     "text": [
      "There are non-zero values in the last column\n"
     ]
    }
   ],
   "source": [
    "if (df['0'] != 0).any():\n",
    "    print(\"There are non-zero values in the last column\")"
   ]
  },
  {
   "cell_type": "code",
   "execution_count": 3,
   "metadata": {},
   "outputs": [
    {
     "name": "stdout",
     "output_type": "stream",
     "text": [
      "                3   102  123.36  440.00  0\n",
      "0               3   102  123.36  440.00  0\n",
      "1               3   103  123.36  440.00  0\n",
      "2               3   104  123.36  440.00  0\n",
      "3               3   202  123.36  440.00  0\n",
      "4               3   203  123.36  440.00  0\n",
      "...           ...   ...     ...     ... ..\n",
      "39230141  9999997  2007   15.00   19.50  0\n",
      "39230142  9999997  2707   15.00    9.75  0\n",
      "39230143  9999997  3307   15.00   19.50  0\n",
      "39230144  9999997  7507   15.00   19.50  0\n",
      "39230145  9999997  7907   15.00   19.50  0\n",
      "\n",
      "[39230146 rows x 5 columns]\n"
     ]
    }
   ],
   "source": [
    "new_first_row = pd.DataFrame({'3': [3], '102': [102], '123.36': [123.36], '440.00': [440.00], '0': [0]})\n",
    "\n",
    "# Create a DataFrame with the remaining rows as the data\n",
    "df = df.iloc[0:]\n",
    "\n",
    "# Concatenate the new first row and the data\n",
    "df = pd.concat([new_first_row, df], ignore_index=True)\n",
    "\n",
    "# Display the updated DataFrame with the new first row\n",
    "print(df)"
   ]
  },
  {
   "cell_type": "code",
   "execution_count": 4,
   "metadata": {},
   "outputs": [
    {
     "data": {
      "text/html": [
       "<div>\n",
       "<style scoped>\n",
       "    .dataframe tbody tr th:only-of-type {\n",
       "        vertical-align: middle;\n",
       "    }\n",
       "\n",
       "    .dataframe tbody tr th {\n",
       "        vertical-align: top;\n",
       "    }\n",
       "\n",
       "    .dataframe thead th {\n",
       "        text-align: right;\n",
       "    }\n",
       "</style>\n",
       "<table border=\"1\" class=\"dataframe\">\n",
       "  <thead>\n",
       "    <tr style=\"text-align: right;\">\n",
       "      <th></th>\n",
       "      <th>SKU</th>\n",
       "      <th>Store</th>\n",
       "      <th>Cost</th>\n",
       "      <th>Retail</th>\n",
       "      <th>0</th>\n",
       "    </tr>\n",
       "  </thead>\n",
       "  <tbody>\n",
       "    <tr>\n",
       "      <th>0</th>\n",
       "      <td>3</td>\n",
       "      <td>102</td>\n",
       "      <td>123.36</td>\n",
       "      <td>440.00</td>\n",
       "      <td>0</td>\n",
       "    </tr>\n",
       "    <tr>\n",
       "      <th>1</th>\n",
       "      <td>3</td>\n",
       "      <td>103</td>\n",
       "      <td>123.36</td>\n",
       "      <td>440.00</td>\n",
       "      <td>0</td>\n",
       "    </tr>\n",
       "    <tr>\n",
       "      <th>2</th>\n",
       "      <td>3</td>\n",
       "      <td>104</td>\n",
       "      <td>123.36</td>\n",
       "      <td>440.00</td>\n",
       "      <td>0</td>\n",
       "    </tr>\n",
       "    <tr>\n",
       "      <th>3</th>\n",
       "      <td>3</td>\n",
       "      <td>202</td>\n",
       "      <td>123.36</td>\n",
       "      <td>440.00</td>\n",
       "      <td>0</td>\n",
       "    </tr>\n",
       "    <tr>\n",
       "      <th>4</th>\n",
       "      <td>3</td>\n",
       "      <td>203</td>\n",
       "      <td>123.36</td>\n",
       "      <td>440.00</td>\n",
       "      <td>0</td>\n",
       "    </tr>\n",
       "    <tr>\n",
       "      <th>...</th>\n",
       "      <td>...</td>\n",
       "      <td>...</td>\n",
       "      <td>...</td>\n",
       "      <td>...</td>\n",
       "      <td>...</td>\n",
       "    </tr>\n",
       "    <tr>\n",
       "      <th>39230141</th>\n",
       "      <td>9999997</td>\n",
       "      <td>2007</td>\n",
       "      <td>15.00</td>\n",
       "      <td>19.50</td>\n",
       "      <td>0</td>\n",
       "    </tr>\n",
       "    <tr>\n",
       "      <th>39230142</th>\n",
       "      <td>9999997</td>\n",
       "      <td>2707</td>\n",
       "      <td>15.00</td>\n",
       "      <td>9.75</td>\n",
       "      <td>0</td>\n",
       "    </tr>\n",
       "    <tr>\n",
       "      <th>39230143</th>\n",
       "      <td>9999997</td>\n",
       "      <td>3307</td>\n",
       "      <td>15.00</td>\n",
       "      <td>19.50</td>\n",
       "      <td>0</td>\n",
       "    </tr>\n",
       "    <tr>\n",
       "      <th>39230144</th>\n",
       "      <td>9999997</td>\n",
       "      <td>7507</td>\n",
       "      <td>15.00</td>\n",
       "      <td>19.50</td>\n",
       "      <td>0</td>\n",
       "    </tr>\n",
       "    <tr>\n",
       "      <th>39230145</th>\n",
       "      <td>9999997</td>\n",
       "      <td>7907</td>\n",
       "      <td>15.00</td>\n",
       "      <td>19.50</td>\n",
       "      <td>0</td>\n",
       "    </tr>\n",
       "  </tbody>\n",
       "</table>\n",
       "<p>39230146 rows × 5 columns</p>\n",
       "</div>"
      ],
      "text/plain": [
       "              SKU  Store    Cost  Retail  0\n",
       "0               3    102  123.36  440.00  0\n",
       "1               3    103  123.36  440.00  0\n",
       "2               3    104  123.36  440.00  0\n",
       "3               3    202  123.36  440.00  0\n",
       "4               3    203  123.36  440.00  0\n",
       "...           ...    ...     ...     ... ..\n",
       "39230141  9999997   2007   15.00   19.50  0\n",
       "39230142  9999997   2707   15.00    9.75  0\n",
       "39230143  9999997   3307   15.00   19.50  0\n",
       "39230144  9999997   7507   15.00   19.50  0\n",
       "39230145  9999997   7907   15.00   19.50  0\n",
       "\n",
       "[39230146 rows x 5 columns]"
      ]
     },
     "execution_count": 4,
     "metadata": {},
     "output_type": "execute_result"
    }
   ],
   "source": [
    "df=df.rename(columns={'3': 'SKU','102':'Store', '123.36':'Cost', '440.00':'Retail'}, inplace=False)\n",
    "df"
   ]
  },
  {
   "cell_type": "code",
   "execution_count": 5,
   "metadata": {},
   "outputs": [
    {
     "data": {
      "text/html": [
       "<div>\n",
       "<style scoped>\n",
       "    .dataframe tbody tr th:only-of-type {\n",
       "        vertical-align: middle;\n",
       "    }\n",
       "\n",
       "    .dataframe tbody tr th {\n",
       "        vertical-align: top;\n",
       "    }\n",
       "\n",
       "    .dataframe thead th {\n",
       "        text-align: right;\n",
       "    }\n",
       "</style>\n",
       "<table border=\"1\" class=\"dataframe\">\n",
       "  <thead>\n",
       "    <tr style=\"text-align: right;\">\n",
       "      <th></th>\n",
       "      <th>SKU</th>\n",
       "      <th>Store</th>\n",
       "      <th>Cost</th>\n",
       "      <th>Retail</th>\n",
       "    </tr>\n",
       "  </thead>\n",
       "  <tbody>\n",
       "    <tr>\n",
       "      <th>0</th>\n",
       "      <td>3</td>\n",
       "      <td>102</td>\n",
       "      <td>123.36</td>\n",
       "      <td>440.00</td>\n",
       "    </tr>\n",
       "    <tr>\n",
       "      <th>1</th>\n",
       "      <td>3</td>\n",
       "      <td>103</td>\n",
       "      <td>123.36</td>\n",
       "      <td>440.00</td>\n",
       "    </tr>\n",
       "    <tr>\n",
       "      <th>2</th>\n",
       "      <td>3</td>\n",
       "      <td>104</td>\n",
       "      <td>123.36</td>\n",
       "      <td>440.00</td>\n",
       "    </tr>\n",
       "    <tr>\n",
       "      <th>3</th>\n",
       "      <td>3</td>\n",
       "      <td>202</td>\n",
       "      <td>123.36</td>\n",
       "      <td>440.00</td>\n",
       "    </tr>\n",
       "    <tr>\n",
       "      <th>4</th>\n",
       "      <td>3</td>\n",
       "      <td>203</td>\n",
       "      <td>123.36</td>\n",
       "      <td>440.00</td>\n",
       "    </tr>\n",
       "    <tr>\n",
       "      <th>...</th>\n",
       "      <td>...</td>\n",
       "      <td>...</td>\n",
       "      <td>...</td>\n",
       "      <td>...</td>\n",
       "    </tr>\n",
       "    <tr>\n",
       "      <th>39230141</th>\n",
       "      <td>9999997</td>\n",
       "      <td>2007</td>\n",
       "      <td>15.00</td>\n",
       "      <td>19.50</td>\n",
       "    </tr>\n",
       "    <tr>\n",
       "      <th>39230142</th>\n",
       "      <td>9999997</td>\n",
       "      <td>2707</td>\n",
       "      <td>15.00</td>\n",
       "      <td>9.75</td>\n",
       "    </tr>\n",
       "    <tr>\n",
       "      <th>39230143</th>\n",
       "      <td>9999997</td>\n",
       "      <td>3307</td>\n",
       "      <td>15.00</td>\n",
       "      <td>19.50</td>\n",
       "    </tr>\n",
       "    <tr>\n",
       "      <th>39230144</th>\n",
       "      <td>9999997</td>\n",
       "      <td>7507</td>\n",
       "      <td>15.00</td>\n",
       "      <td>19.50</td>\n",
       "    </tr>\n",
       "    <tr>\n",
       "      <th>39230145</th>\n",
       "      <td>9999997</td>\n",
       "      <td>7907</td>\n",
       "      <td>15.00</td>\n",
       "      <td>19.50</td>\n",
       "    </tr>\n",
       "  </tbody>\n",
       "</table>\n",
       "<p>39230146 rows × 4 columns</p>\n",
       "</div>"
      ],
      "text/plain": [
       "              SKU  Store    Cost  Retail\n",
       "0               3    102  123.36  440.00\n",
       "1               3    103  123.36  440.00\n",
       "2               3    104  123.36  440.00\n",
       "3               3    202  123.36  440.00\n",
       "4               3    203  123.36  440.00\n",
       "...           ...    ...     ...     ...\n",
       "39230141  9999997   2007   15.00   19.50\n",
       "39230142  9999997   2707   15.00    9.75\n",
       "39230143  9999997   3307   15.00   19.50\n",
       "39230144  9999997   7507   15.00   19.50\n",
       "39230145  9999997   7907   15.00   19.50\n",
       "\n",
       "[39230146 rows x 4 columns]"
      ]
     },
     "execution_count": 5,
     "metadata": {},
     "output_type": "execute_result"
    }
   ],
   "source": [
    "data = df.drop(df.columns[-1], axis=1)\n",
    "data"
   ]
  },
  {
   "cell_type": "code",
   "execution_count": 6,
   "metadata": {},
   "outputs": [
    {
     "data": {
      "text/plain": [
       "[<matplotlib.lines.Line2D at 0x7feba0a92100>]"
      ]
     },
     "execution_count": 6,
     "metadata": {},
     "output_type": "execute_result"
    },
    {
     "data": {
      "image/png": "[encoded data removed]",
      "text/plain": [
       "<Figure size 432x288 with 1 Axes>"
      ]
     },
     "metadata": {
      "needs_background": "light"
     },
     "output_type": "display_data"
    }
   ],
   "source": [
    "import matplotlib.pyplot as plt\n",
    "plt.plot(df['SKU'])"
   ]
  },
  {
   "cell_type": "code",
   "execution_count": 8,
   "metadata": {},
   "outputs": [
    {
     "data": {
      "text/plain": [
       "(array([5233881., 3732662., 5063167., 4597599., 4663693., 2762224.,\n",
       "        2954497., 4068129., 3547714., 2606580.]),\n",
       " array([ 100. , 1080.9, 2061.8, 3042.7, 4023.6, 5004.5, 5985.4, 6966.3,\n",
       "        7947.2, 8928.1, 9909. ]),\n",
       " <BarContainer object of 10 artists>)"
      ]
     },
     "execution_count": 8,
     "metadata": {},
     "output_type": "execute_result"
    },
    {
     "data": {
      "image/png": "[encoded data removed]",
      "text/plain": [
       "<Figure size 432x288 with 1 Axes>"
      ]
     },
     "metadata": {
      "needs_background": "light"
     },
     "output_type": "display_data"
    }
   ],
   "source": [
    "plt.hist(df['Store'])"
   ]
  },
  {
   "cell_type": "code",
   "execution_count": null,
   "metadata": {},
   "outputs": [],
   "source": []
  }
 ],
 "metadata": {
  "kernelspec": {
   "display_name": "base",
   "language": "python",
   "name": "python3"
  },
  "language_info": {
   "codemirror_mode": {
    "name": "ipython",
    "version": 3
   },
   "file_extension": ".py",
   "mimetype": "text/x-python",
   "name": "python",
   "nbconvert_exporter": "python",
   "pygments_lexer": "ipython3",
   "version": "3.9.12 (main, Apr  5 2022, 01:53:17) \n[Clang 12.0.0 ]"
  },
  "orig_nbformat": 4,
  "vscode": {
   "interpreter": {
    "hash": "f713cae0653ed942735790ad9279da6a676a09c8a52d5a760c4ec1780406c327"
   }
  }
 },
 "nbformat": 4,
 "nbformat_minor": 2
}
